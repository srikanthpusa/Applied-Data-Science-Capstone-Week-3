{
 "cells": [
  {
   "cell_type": "markdown",
   "metadata": {},
   "source": [
    "<h3>Exploring venues in Hi-tech city Hyderabad, India"
   ]
  },
  {
   "cell_type": "markdown",
   "metadata": {},
   "source": [
    "Table of Contents<br>\n",
    "    -Introduction<br>\n",
    "    -Data Collection from APIs<br>\n",
    "    -Data Cleaning"
   ]
  },
  {
   "cell_type": "markdown",
   "metadata": {},
   "source": [
    "<h4>Introduction"
   ]
  },
  {
   "cell_type": "markdown",
   "metadata": {},
   "source": [
    "The aim of the project is to identify venues in Hi-Tech city Hyderabad, India based on their rating and average prices. In this notebook, Identifies various venues in the Hi-Tech city of Hyderabad, India, using Foursquare API and Zomato API, to help visitors select the restaurants that suit them the best.\n",
    "\n",
    "Whenever a user is visiting a city they start looking for places to visit during their stay. They primarily look for places based on the venue ratings across all venues and the average prices such that the locations fits in their budget.\n",
    "\n",
    "Here, we'll identify places that are fit for various individuals based on the information collected from the two APIs and Data Science. Once we have the plot with the venues, any company can launch an application using the same data and suggest users such information."
   ]
  },
  {
   "cell_type": "markdown",
   "metadata": {},
   "source": [
    "<h4>Data Collection from APIs"
   ]
  },
  {
   "cell_type": "markdown",
   "metadata": {},
   "source": [
    "To begin with, we will take a look at Hi-Tech city Hyderabad on the Map using the folium library.\n",
    "\n",
    "also fetch the data from two different APIs.\n",
    "\n",
    "Foursquare API: Using Foursquare API fetching venues in Hi-Tech city starting from the middle upto 4 Kilometers in each direction.\n",
    "Zomato API: The Zomato API provides information about various venues including the complete address, user ratings, price for two people, price range and a lot more."
   ]
  },
  {
   "cell_type": "code",
   "execution_count": null,
   "metadata": {},
   "outputs": [],
   "source": []
  }
 ],
 "metadata": {
  "kernelspec": {
   "display_name": "Python 3",
   "language": "python",
   "name": "python3"
  },
  "language_info": {
   "codemirror_mode": {
    "name": "ipython",
    "version": 3
   },
   "file_extension": ".py",
   "mimetype": "text/x-python",
   "name": "python",
   "nbconvert_exporter": "python",
   "pygments_lexer": "ipython3",
   "version": "3.7.5"
  }
 },
 "nbformat": 4,
 "nbformat_minor": 2
}
